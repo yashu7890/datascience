{
 "cells": [
  {
   "cell_type": "code",
   "execution_count": 5,
   "metadata": {},
   "outputs": [
    {
     "name": "stdout",
     "output_type": "stream",
     "text": [
      "\n"
     ]
    }
   ],
   "source": [
    "text=\"Successsssssssss is the sum of small efforts, repeated day ininin and day ouout.\"\n",
    "l=len(text)\n",
    "result=''\n",
    "for i in range(l):\n",
    "    temp=i\n",
    "    for j in range(i+1,l):\n",
    "        if( (text[i]==text[j])and(text[i:j]==text[j:j+j-i])and text[i:j].count(text[i])!=len(text[i:j]) ):\n",
    "            if((len(result)<len(text[t:j+j-i]))):\n",
    "                result=text[temp:j+j-i]\n",
    "                i=j\n",
    "                continue\n",
    "print(result)       "
   ]
  },
  {
   "cell_type": "code",
   "execution_count": 9,
   "metadata": {},
   "outputs": [
    {
     "name": "stdout",
     "output_type": "stream",
     "text": [
      "p\n"
     ]
    }
   ],
   "source": [
    "text = 'ipipipip'\n",
    "result =''     \n",
    "   # YOUR CODE HERE\n",
    "    length=len(text)i\n",
    "    for i in range(length):\n",
    "        t=i\n",
    "        for j in range(i,length):\n",
    "            if((text[i]==text[j]) and (text[i:j]==text[j:j+j-i])):\n",
    "                if(len(result)<j+j-1):\n",
    "                    result=text[t:j+j-1]\n",
    "                    i=j\n",
    "                    continue\n",
    "    print(result)"
   ]
  },
  {
   "cell_type": "code",
   "execution_count": null,
   "metadata": {},
   "outputs": [],
   "source": []
  }
 ],
 "metadata": {
  "kernelspec": {
   "display_name": "Python 3",
   "language": "python",
   "name": "python3"
  },
  "language_info": {
   "codemirror_mode": {
    "name": "ipython",
    "version": 3
   },
   "file_extension": ".py",
   "mimetype": "text/x-python",
   "name": "python",
   "nbconvert_exporter": "python",
   "pygments_lexer": "ipython3",
   "version": "3.7.5"
  }
 },
 "nbformat": 4,
 "nbformat_minor": 2
}
