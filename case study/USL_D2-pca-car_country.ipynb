{
 "cells": [
  {
   "cell_type": "markdown",
   "metadata": {},
   "source": [
    "Let’s work with an example. The data consists of 388 cars from the 2004 model year, with\n",
    "18 features. Eight features are binary indicators; the other 11 features are numerical."
   ]
  },
  {
   "cell_type": "code",
   "execution_count": 73,
   "metadata": {},
   "outputs": [],
   "source": [
    "import itertools\n",
    "import os\n",
    "import numpy as np\n",
    "import pandas as pd\n",
    "\n",
    "from matplotlib import pyplot as plt\n",
    "import seaborn as sns\n",
    "\n",
    "from sklearn.feature_selection import VarianceThreshold\n",
    "from sklearn.preprocessing import normalize\n",
    "from sklearn import preprocessing\n",
    "from sklearn.decomposition import PCA"
   ]
  },
  {
   "cell_type": "code",
   "execution_count": 74,
   "metadata": {},
   "outputs": [],
   "source": [
    "car = pd.read_csv('04cars-fixed.csv')\n",
    "X = car.iloc[:,10:]\n",
    "cols = list(X.columns)\n",
    "labels=car[[\"Brand\",'Country']]\n",
    "le = preprocessing.LabelEncoder()\n",
    "labelen = labels.apply(le.fit_transform)"
   ]
  },
  {
   "cell_type": "code",
   "execution_count": 75,
   "metadata": {},
   "outputs": [
    {
     "data": {
      "text/html": [
       "<div>\n",
       "<style scoped>\n",
       "    .dataframe tbody tr th:only-of-type {\n",
       "        vertical-align: middle;\n",
       "    }\n",
       "\n",
       "    .dataframe tbody tr th {\n",
       "        vertical-align: top;\n",
       "    }\n",
       "\n",
       "    .dataframe thead th {\n",
       "        text-align: right;\n",
       "    }\n",
       "</style>\n",
       "<table border=\"1\" class=\"dataframe\">\n",
       "  <thead>\n",
       "    <tr style=\"text-align: right;\">\n",
       "      <th></th>\n",
       "      <th>Brand</th>\n",
       "      <th>Country</th>\n",
       "    </tr>\n",
       "  </thead>\n",
       "  <tbody>\n",
       "    <tr>\n",
       "      <th>0</th>\n",
       "      <td>0</td>\n",
       "      <td>1</td>\n",
       "    </tr>\n",
       "    <tr>\n",
       "      <th>1</th>\n",
       "      <td>1</td>\n",
       "      <td>1</td>\n",
       "    </tr>\n",
       "    <tr>\n",
       "      <th>2</th>\n",
       "      <td>2</td>\n",
       "      <td>1</td>\n",
       "    </tr>\n",
       "    <tr>\n",
       "      <th>3</th>\n",
       "      <td>3</td>\n",
       "      <td>1</td>\n",
       "    </tr>\n",
       "    <tr>\n",
       "      <th>4</th>\n",
       "      <td>4</td>\n",
       "      <td>1</td>\n",
       "    </tr>\n",
       "  </tbody>\n",
       "</table>\n",
       "</div>"
      ],
      "text/plain": [
       "   Brand  Country\n",
       "0      0        1\n",
       "1      1        1\n",
       "2      2        1\n",
       "3      3        1\n",
       "4      4        1"
      ]
     },
     "execution_count": 75,
     "metadata": {},
     "output_type": "execute_result"
    }
   ],
   "source": [
    "labelen.head()"
   ]
  },
  {
   "cell_type": "code",
   "execution_count": 76,
   "metadata": {},
   "outputs": [
    {
     "data": {
      "text/plain": [
       "['Retail',\n",
       " 'Engine',\n",
       " 'Cylinders',\n",
       " 'Horsepower',\n",
       " 'CityMPG',\n",
       " 'HighwayMPG',\n",
       " 'Weight',\n",
       " 'Wheelbase',\n",
       " 'Length',\n",
       " 'Width']"
      ]
     },
     "execution_count": 76,
     "metadata": {},
     "output_type": "execute_result"
    }
   ],
   "source": [
    "cols"
   ]
  },
  {
   "cell_type": "code",
   "execution_count": 77,
   "metadata": {},
   "outputs": [],
   "source": [
    "from sklearn.preprocessing import StandardScaler\n",
    "X = X.astype(float)\n",
    "X_std = StandardScaler().fit_transform(X)"
   ]
  },
  {
   "cell_type": "markdown",
   "metadata": {},
   "source": [
    "### Let's apply sklearn PCA ...."
   ]
  },
  {
   "cell_type": "code",
   "execution_count": 78,
   "metadata": {},
   "outputs": [],
   "source": [
    "from sklearn.decomposition import PCA\n",
    "\n",
    "pca = PCA(whiten=True)\n",
    "pca.fit(X_std)\n",
    "variance = pd.DataFrame(pca.explained_variance_ratio_)\n",
    "np.cumsum(pca.explained_variance_ratio_)\n",
    "ct = [i for i in range(0,len(pca.explained_variance_ratio_))]"
   ]
  },
  {
   "cell_type": "code",
   "execution_count": 79,
   "metadata": {},
   "outputs": [
    {
     "data": {
      "text/plain": [
       "[0, 1, 2, 3, 4, 5, 6, 7, 8, 9]"
      ]
     },
     "execution_count": 79,
     "metadata": {},
     "output_type": "execute_result"
    }
   ],
   "source": [
    "ct"
   ]
  },
  {
   "cell_type": "code",
   "execution_count": 80,
   "metadata": {},
   "outputs": [
    {
     "name": "stdout",
     "output_type": "stream",
     "text": [
      "[0.66613702 0.14815772 0.07617541 0.03093459 0.02740946 0.01970727\n",
      " 0.01269551 0.00857098 0.00652073 0.0036913 ]\n"
     ]
    }
   ],
   "source": [
    "print(pca.explained_variance_ratio_)"
   ]
  },
  {
   "cell_type": "code",
   "execution_count": 81,
   "metadata": {},
   "outputs": [
    {
     "name": "stdout",
     "output_type": "stream",
     "text": [
      "[6.67862766 1.48541552 0.76372757 0.31014733 0.27480473 0.19758323\n",
      " 0.12728395 0.08593184 0.06537626 0.03700866]\n"
     ]
    }
   ],
   "source": [
    "print(pca.explained_variance_)"
   ]
  },
  {
   "cell_type": "code",
   "execution_count": 82,
   "metadata": {},
   "outputs": [
    {
     "data": {
      "image/png": "[encoded data removed]",
      "text/plain": [
       "<Figure size 432x288 with 1 Axes>"
      ]
     },
     "metadata": {
      "needs_background": "light"
     },
     "output_type": "display_data"
    }
   ],
   "source": [
    "plt.bar(ct, pca.explained_variance_ratio_)\n",
    "plt.plot(np.cumsum(pca.explained_variance_ratio_), 'r')\n",
    "plt.xlabel('PCA Components')\n",
    "plt.ylabel('Explained Variation in %')\n",
    "plt.show()"
   ]
  },
  {
   "cell_type": "code",
   "execution_count": 83,
   "metadata": {},
   "outputs": [],
   "source": [
    "sklearn_pca = PCA(n_components=4)\n",
    "X_dim = sklearn_pca.fit_transform(X_std)"
   ]
  },
  {
   "cell_type": "code",
   "execution_count": 84,
   "metadata": {},
   "outputs": [
    {
     "data": {
      "text/plain": [
       "(387, 4)"
      ]
     },
     "execution_count": 84,
     "metadata": {},
     "output_type": "execute_result"
    }
   ],
   "source": [
    "X_dim.shape"
   ]
  },
  {
   "cell_type": "code",
   "execution_count": 90,
   "metadata": {},
   "outputs": [],
   "source": [
    "pd.DataFrame(X_dim).to_csv('xdim.csv')"
   ]
  },
  {
   "cell_type": "code",
   "execution_count": 69,
   "metadata": {},
   "outputs": [],
   "source": [
    "ld = sklearn_pca.components_.T\n",
    "grr=pd.DataFrame(ld, index = cols)"
   ]
  },
  {
   "cell_type": "code",
   "execution_count": 70,
   "metadata": {},
   "outputs": [],
   "source": [
    "#pd.DataFrame(X_dim).to_csv('xdim.csv')"
   ]
  },
  {
   "cell_type": "code",
   "execution_count": 71,
   "metadata": {},
   "outputs": [
    {
     "name": "stdout",
     "output_type": "stream",
     "text": [
      "(10, 4)\n",
      "                   0         1         2         3\n",
      "Retail     -0.246236  0.494246  0.408473  0.471678\n",
      "Engine     -0.359154  0.054407  0.136980 -0.508787\n",
      "Cylinders  -0.341696  0.152264  0.210615 -0.588538\n",
      "Horsepower -0.315089  0.371447  0.237221  0.177510\n",
      "CityMPG     0.323409 -0.138609  0.523886 -0.177365\n",
      "HighwayMPG  0.319714 -0.158059  0.584486 -0.053317\n",
      "Weight     -0.353821 -0.115890 -0.145573  0.027784\n",
      "Wheelbase  -0.289540 -0.465928  0.145434  0.232910\n",
      "Length     -0.278871 -0.468211  0.234936  0.226611\n",
      "Width      -0.317390 -0.312518  0.011623 -0.009804\n"
     ]
    }
   ],
   "source": [
    "print(grr.shape)\n",
    "print(grr.head(20))"
   ]
  },
  {
   "cell_type": "code",
   "execution_count": 72,
   "metadata": {},
   "outputs": [
    {
     "data": {
      "image/png": "[encoded data removed]",
      "text/plain": [
       "<Figure size 432x288 with 1 Axes>"
      ]
     },
     "metadata": {
      "needs_background": "light"
     },
     "output_type": "display_data"
    }
   ],
   "source": [
    "fig, ax = plt.subplots()\n",
    "group = labels['Country']\n",
    "for g in list(group.unique()):\n",
    "    i = np.where(group == g)\n",
    "    ax.scatter(X_dim[i,0], X_dim[i,1], label=g)\n",
    "ax.set_xlabel('PC1')\n",
    "ax.set_ylabel('PC2')\n",
    "ax.legend()\n",
    "plt.savefig('pc1.png')\n",
    "plt.show()"
   ]
  },
  {
   "cell_type": "code",
   "execution_count": 53,
   "metadata": {},
   "outputs": [
    {
     "data": {
      "image/png": "[encoded data removed]",
      "text/plain": [
       "<Figure size 432x288 with 1 Axes>"
      ]
     },
     "metadata": {
      "needs_background": "light"
     },
     "output_type": "display_data"
    }
   ],
   "source": [
    "fig, ax = plt.subplots()\n",
    "group = labels['Country']\n",
    "for g in list(group.unique()):\n",
    "    i = np.where(group == g)\n",
    "    ax.scatter(X_dim[i,2], X_dim[i,3], label=g)\n",
    "ax.set_xlabel('PC3')\n",
    "ax.set_ylabel('PC4')\n",
    "ax.legend()\n",
    "plt.savefig('pc3.png')\n",
    "plt.show()"
   ]
  },
  {
   "cell_type": "code",
   "execution_count": 54,
   "metadata": {},
   "outputs": [],
   "source": [
    "X_dim[X_dim>2]=np.NaN"
   ]
  },
  {
   "cell_type": "code",
   "execution_count": 55,
   "metadata": {},
   "outputs": [
    {
     "data": {
      "text/plain": [
       "(387, 4)"
      ]
     },
     "execution_count": 55,
     "metadata": {},
     "output_type": "execute_result"
    }
   ],
   "source": [
    "X_dim.shape"
   ]
  },
  {
   "cell_type": "code",
   "execution_count": 56,
   "metadata": {},
   "outputs": [
    {
     "data": {
      "image/png": "[encoded data removed]",
      "text/plain": [
       "<Figure size 432x288 with 1 Axes>"
      ]
     },
     "metadata": {
      "needs_background": "light"
     },
     "output_type": "display_data"
    }
   ],
   "source": [
    "fig, ax = plt.subplots()\n",
    "group = labels['Country']\n",
    "for g in list(group.unique()):\n",
    "    i = np.where(group == g)\n",
    "    ax.scatter(X_dim[i,2], X_dim[i,3], label=g)\n",
    "ax.set_xlabel('PC3')\n",
    "ax.set_ylabel('PC4')\n",
    "ax.legend()\n",
    "plt.savefig('pc3.png')\n",
    "plt.show()"
   ]
  },
  {
   "cell_type": "code",
   "execution_count": null,
   "metadata": {},
   "outputs": [],
   "source": []
  },
  {
   "cell_type": "markdown",
   "metadata": {},
   "source": [
    "#### Eigendecomposition - Computing Eigenvectors and Eigenvalues"
   ]
  },
  {
   "cell_type": "code",
   "execution_count": 21,
   "metadata": {},
   "outputs": [
    {
     "name": "stdout",
     "output_type": "stream",
     "text": [
      "NumPy covariance matrix: \n",
      "[[ 1.00259067  0.59516292  0.65256456  0.83480725 -0.48322822 -0.46708624\n",
      "   0.47318525  0.20388757  0.20741401  0.30657776]\n",
      " [ 0.59516292  1.00259067  0.91380217  0.78063381 -0.70720458 -0.70924073\n",
      "   0.81374315  0.63310578  0.62619919  0.72798023]\n",
      " [ 0.65256456  0.91380217  1.00259067  0.79319322 -0.67225076 -0.66590928\n",
      "   0.73307527  0.55412436  0.54777886  0.62043749]\n",
      " [ 0.83480725  0.78063381  0.79319322  1.00259067 -0.67354097 -0.65215312\n",
      "   0.63269296  0.39765349  0.3824138   0.50074076]\n",
      " [-0.48322822 -0.70720458 -0.67225076 -0.67354097  1.00259067  0.9435568\n",
      "  -0.73807279 -0.4823728  -0.46879757 -0.5884077 ]\n",
      " [-0.46708624 -0.70924073 -0.66590928 -0.65215312  0.9435568   1.00259067\n",
      "  -0.79064988 -0.45578706 -0.39011719 -0.58425028]\n",
      " [ 0.47318525  0.81374315  0.73307527  0.63269296 -0.73807279 -0.79064988\n",
      "   1.00259067  0.75286072  0.65458468  0.80871719]\n",
      " [ 0.20388757  0.63310578  0.55412436  0.39765349 -0.4823728  -0.45578706\n",
      "   0.75286072  1.00259067  0.86877376  0.75879936]\n",
      " [ 0.20741401  0.62619919  0.54777886  0.3824138  -0.46879757 -0.39011719\n",
      "   0.65458468  0.86877376  1.00259067  0.7533039 ]\n",
      " [ 0.30657776  0.72798023  0.62043749  0.50074076 -0.5884077  -0.58425028\n",
      "   0.80871719  0.75879936  0.7533039   1.00259067]]\n"
     ]
    }
   ],
   "source": [
    "## Covariance Matrix\n",
    "\n",
    "print('NumPy covariance matrix: \\n%s' %np.cov(X_std.T))"
   ]
  },
  {
   "cell_type": "code",
   "execution_count": 22,
   "metadata": {},
   "outputs": [
    {
     "name": "stdout",
     "output_type": "stream",
     "text": [
      "Eigenvectors \n",
      "[[-0.24467041  0.49627952 -0.41044164  0.47107209  0.15176034  0.07623742\n",
      "   0.45635443 -0.05722303  0.20928845  0.13889904]\n",
      " [-0.35921553  0.05388759 -0.13465082 -0.50913041 -0.03731889 -0.01034387\n",
      "  -0.01512641  0.00791406  0.66000896 -0.39155171]\n",
      " [-0.34180586  0.15248064 -0.20915091 -0.5800822  -0.23111204  0.06946864\n",
      "   0.18973576  0.00609739 -0.43159831  0.44623575]\n",
      " [-0.3151568   0.37191425 -0.2362672   0.16781443 -0.04894501 -0.16806138\n",
      "  -0.73270845 -0.00554367 -0.26349386 -0.20349556]\n",
      " [ 0.32355194 -0.1384387  -0.52291806 -0.18484393  0.3047947   0.25360092\n",
      "  -0.06344492 -0.60194424 -0.1329148  -0.16521675]\n",
      " [ 0.31984821 -0.15769369 -0.58383562 -0.05902979  0.04049198 -0.07736195\n",
      "  -0.04116715  0.72029613  0.01732878  0.00593808]\n",
      " [-0.35397919 -0.11573467  0.14497026  0.02481332  0.40274746  0.54882351\n",
      "   0.12698534  0.30626403 -0.33617476 -0.39156478]\n",
      " [-0.28985273 -0.46394065 -0.14937403  0.24600803 -0.18632257  0.46008799\n",
      "  -0.3210936  -0.04263872  0.28476379  0.43070324]\n",
      " [-0.27906936 -0.46718987 -0.23687249  0.23298113 -0.42516443 -0.32171817\n",
      "   0.30426887 -0.13586634 -0.22921138 -0.3816028 ]\n",
      " [-0.31742907 -0.31352483 -0.00977936 -0.03395023  0.66898572 -0.52375687\n",
      "  -0.0335348  -0.03682676  0.01649335  0.27400134]]\n",
      "\n",
      "Eigenvalues \n",
      "[6.67339564 1.48665048 0.76493787 0.31319369 0.27388741 0.19807183\n",
      " 0.12712641 0.03702662 0.06530229 0.0863145 ]\n"
     ]
    }
   ],
   "source": [
    "cov_mat = np.cov(X_std.T)\n",
    "\n",
    "eig_vals, eig_vecs = np.linalg.eig(cov_mat)\n",
    "\n",
    "print('Eigenvectors \\n%s' %eig_vecs)\n",
    "print('\\nEigenvalues \\n%s' %eig_vals)"
   ]
  },
  {
   "cell_type": "markdown",
   "metadata": {},
   "source": [
    "#### Correlation Matrix\n",
    "\n",
    "Especially, in the field of \"Finance,\" the correlation matrix typically used instead of the covariance matrix. However, the eigendecomposition of the covariance matrix (if the input data was standardized) yields the same results as a eigendecomposition on the correlation matrix, since the correlation matrix can be understood as the normalized covariance matrix. Eigendecomposition of the standardized data based on the correlation matrix:"
   ]
  },
  {
   "cell_type": "code",
   "execution_count": 23,
   "metadata": {},
   "outputs": [
    {
     "name": "stdout",
     "output_type": "stream",
     "text": [
      "Eigenvectors \n",
      "[[-0.24467041  0.49627952 -0.41044164  0.47107209  0.15176034  0.07623742\n",
      "   0.45635443 -0.05722303  0.20928845  0.13889904]\n",
      " [-0.35921553  0.05388759 -0.13465082 -0.50913041 -0.03731889 -0.01034387\n",
      "  -0.01512641  0.00791406  0.66000896 -0.39155171]\n",
      " [-0.34180586  0.15248064 -0.20915091 -0.5800822  -0.23111204  0.06946864\n",
      "   0.18973576  0.00609739 -0.43159831  0.44623575]\n",
      " [-0.3151568   0.37191425 -0.2362672   0.16781443 -0.04894501 -0.16806138\n",
      "  -0.73270845 -0.00554367 -0.26349386 -0.20349556]\n",
      " [ 0.32355194 -0.1384387  -0.52291806 -0.18484393  0.3047947   0.25360092\n",
      "  -0.06344492 -0.60194424 -0.1329148  -0.16521675]\n",
      " [ 0.31984821 -0.15769369 -0.58383562 -0.05902979  0.04049198 -0.07736195\n",
      "  -0.04116715  0.72029613  0.01732878  0.00593808]\n",
      " [-0.35397919 -0.11573467  0.14497026  0.02481332  0.40274746  0.54882351\n",
      "   0.12698534  0.30626403 -0.33617476 -0.39156478]\n",
      " [-0.28985273 -0.46394065 -0.14937403  0.24600803 -0.18632257  0.46008799\n",
      "  -0.3210936  -0.04263872  0.28476379  0.43070324]\n",
      " [-0.27906936 -0.46718987 -0.23687249  0.23298113 -0.42516443 -0.32171817\n",
      "   0.30426887 -0.13586634 -0.22921138 -0.3816028 ]\n",
      " [-0.31742907 -0.31352483 -0.00977936 -0.03395023  0.66898572 -0.52375687\n",
      "  -0.0335348  -0.03682676  0.01649335  0.27400134]]\n",
      "\n",
      "Eigenvalues \n",
      "[6.65615172 1.48280901 0.76296129 0.31238441 0.27317969 0.19756002\n",
      " 0.12679792 0.03693094 0.06513355 0.08609146]\n"
     ]
    }
   ],
   "source": [
    "cor_mat1 = np.corrcoef(X_std.T)\n",
    "\n",
    "eig_vals, eig_vecs = np.linalg.eig(cor_mat1)\n",
    "\n",
    "print('Eigenvectors \\n%s' %eig_vecs)\n",
    "print('\\nEigenvalues \\n%s' %eig_vals)"
   ]
  },
  {
   "cell_type": "markdown",
   "metadata": {},
   "source": [
    "#### Singular Vector Decomposition\n",
    "\n",
    "While the eigendecomposition of the covariance or correlation matrix may be more intuitiuve, most PCA implementations perform a Singular Vector Decomposition (SVD) to improve the computational efficiency. So, let us perform an SVD to confirm that the result are indeed the same:"
   ]
  },
  {
   "cell_type": "code",
   "execution_count": 24,
   "metadata": {},
   "outputs": [
    {
     "data": {
      "text/plain": [
       "array([[-0.24467041,  0.49627952,  0.41044164,  0.47107209, -0.15176034,\n",
       "         0.07623742, -0.45635443,  0.13889904, -0.20928845, -0.05722303],\n",
       "       [-0.35921553,  0.05388759,  0.13465082, -0.50913041,  0.03731889,\n",
       "        -0.01034387,  0.01512641, -0.39155171, -0.66000896,  0.00791406],\n",
       "       [-0.34180586,  0.15248064,  0.20915091, -0.5800822 ,  0.23111204,\n",
       "         0.06946864, -0.18973576,  0.44623575,  0.43159831,  0.00609739],\n",
       "       [-0.3151568 ,  0.37191425,  0.2362672 ,  0.16781443,  0.04894501,\n",
       "        -0.16806138,  0.73270845, -0.20349556,  0.26349386, -0.00554367],\n",
       "       [ 0.32355194, -0.1384387 ,  0.52291806, -0.18484393, -0.3047947 ,\n",
       "         0.25360092,  0.06344492, -0.16521675,  0.1329148 , -0.60194424],\n",
       "       [ 0.31984821, -0.15769369,  0.58383562, -0.05902979, -0.04049198,\n",
       "        -0.07736195,  0.04116715,  0.00593808, -0.01732878,  0.72029613],\n",
       "       [-0.35397919, -0.11573467, -0.14497026,  0.02481332, -0.40274746,\n",
       "         0.54882351, -0.12698534, -0.39156478,  0.33617476,  0.30626403],\n",
       "       [-0.28985273, -0.46394065,  0.14937403,  0.24600803,  0.18632257,\n",
       "         0.46008799,  0.3210936 ,  0.43070324, -0.28476379, -0.04263872],\n",
       "       [-0.27906936, -0.46718987,  0.23687249,  0.23298113,  0.42516443,\n",
       "        -0.32171817, -0.30426887, -0.3816028 ,  0.22921138, -0.13586634],\n",
       "       [-0.31742907, -0.31352483,  0.00977936, -0.03395023, -0.66898572,\n",
       "        -0.52375687,  0.0335348 ,  0.27400134, -0.01649335, -0.03682676]])"
      ]
     },
     "execution_count": 24,
     "metadata": {},
     "output_type": "execute_result"
    }
   ],
   "source": [
    "u,s,v = np.linalg.svd(X_std.T)\n",
    "u"
   ]
  },
  {
   "cell_type": "markdown",
   "metadata": {},
   "source": [
    "After sorting the eigenpairs, the next question is \"how many principal components are we going to choose for our new feature subspace?\" A useful measure is the so-called \"explained variance,\" which can be calculated from the eigenvalues. The explained variance tells us how much information (variance) can be attributed to each of the principal components."
   ]
  },
  {
   "cell_type": "code",
   "execution_count": 25,
   "metadata": {},
   "outputs": [],
   "source": [
    "tot = sum(eig_vals)\n",
    "var_exp = [(i / tot)*100 for i in sorted(eig_vals, reverse=True)]\n",
    "cum_var_exp = np.cumsum(var_exp)\n",
    "ct = [i for i in range(0,len(var_exp))]"
   ]
  },
  {
   "cell_type": "code",
   "execution_count": 26,
   "metadata": {},
   "outputs": [
    {
     "name": "stdout",
     "output_type": "stream",
     "text": [
      "[66.56151719039151, 14.828090058937796, 7.6296128805658965, 3.1238440598034956, 2.7317968968234574, 1.9756001927791422, 1.2679791708942325, 0.8609146399220188, 0.6513354995677624, 0.369309410314701]\n"
     ]
    }
   ],
   "source": [
    "print(var_exp)"
   ]
  },
  {
   "cell_type": "code",
   "execution_count": 27,
   "metadata": {},
   "outputs": [
    {
     "data": {
      "text/plain": [
       "Text(0, 0.5, 'Explained Variation in %')"
      ]
     },
     "execution_count": 27,
     "metadata": {},
     "output_type": "execute_result"
    },
    {
     "data": {
      "image/png": "[encoded data removed]",
      "text/plain": [
       "<Figure size 432x288 with 1 Axes>"
      ]
     },
     "metadata": {
      "needs_background": "light"
     },
     "output_type": "display_data"
    }
   ],
   "source": [
    "plt.bar(ct, var_exp)\n",
    "plt.plot(cum_var_exp, 'r')\n",
    "plt.xlabel('PCA Components')\n",
    "plt.ylabel('Explained Variation in %')"
   ]
  },
  {
   "cell_type": "code",
   "execution_count": null,
   "metadata": {},
   "outputs": [],
   "source": []
  },
  {
   "cell_type": "code",
   "execution_count": null,
   "metadata": {},
   "outputs": [],
   "source": []
  },
  {
   "cell_type": "code",
   "execution_count": null,
   "metadata": {},
   "outputs": [],
   "source": []
  },
  {
   "cell_type": "code",
   "execution_count": null,
   "metadata": {},
   "outputs": [],
   "source": []
  }
 ],
 "metadata": {
  "kernelspec": {
   "display_name": "Python 3",
   "language": "python",
   "name": "python3"
  },
  "language_info": {
   "codemirror_mode": {
    "name": "ipython",
    "version": 3
   },
   "file_extension": ".py",
   "mimetype": "text/x-python",
   "name": "python",
   "nbconvert_exporter": "python",
   "pygments_lexer": "ipython3",
   "version": "3.7.3"
  }
 },
 "nbformat": 4,
 "nbformat_minor": 4
}
